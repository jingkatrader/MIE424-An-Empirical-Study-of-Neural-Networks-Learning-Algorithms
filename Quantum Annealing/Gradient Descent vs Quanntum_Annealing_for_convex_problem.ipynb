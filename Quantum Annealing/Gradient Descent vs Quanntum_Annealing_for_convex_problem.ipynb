{
 "cells": [
  {
   "cell_type": "markdown",
   "metadata": {
    "id": "vcIdYgN3GDIN"
   },
   "source": [
    "## Gradient Descent vs Dwave Quantum Annealing, Simulated Annealing"
   ]
  },
  {
   "cell_type": "markdown",
   "metadata": {},
   "source": [
    "### Solving a toy binary linear regression model with MSE loss"
   ]
  },
  {
   "cell_type": "code",
   "execution_count": 1,
   "metadata": {
    "colab": {
     "base_uri": "https://localhost:8080/"
    },
    "id": "TJDd70-aGDIT",
    "outputId": "978a24fe-84c2-4508-f134-a4715949b793"
   },
   "outputs": [],
   "source": [
    "# If using this on Google collab, we need to install the packages\n",
    "try:\n",
    "  import google.colab\n",
    "  IN_COLAB = True\n",
    "except:\n",
    "  IN_COLAB = False\n",
    "\n",
    "# Let's install with dimod and neal\n",
    "if IN_COLAB:\n",
    "    !pip install dwave-ocean-sdk"
   ]
  },
  {
   "cell_type": "markdown",
   "metadata": {},
   "source": [
    "If run locally, install dwave ocean sdk follow the instruction here:\n",
    "https://docs.ocean.dwavesys.com/en/stable/overview/install.html\n",
    "    "
   ]
  },
  {
   "cell_type": "code",
   "execution_count": 1,
   "metadata": {
    "id": "QFqzS-0XGDIe"
   },
   "outputs": [],
   "source": [
    "# Import the Dwave packages dimod and neal\n",
    "import dimod\n",
    "import neal\n",
    "# Import Matplotlib to generate plots\n",
    "import matplotlib.pyplot as plt\n",
    "# Import numpy and scipy for certain numerical calculations below\n",
    "import numpy as np\n",
    "from scipy.special import gamma\n",
    "import math\n",
    "from collections import Counter\n",
    "import pandas as pd\n",
    "from itertools import chain\n",
    "import time\n",
    "import networkx as nx\n",
    "import numpy as np\n",
    "import time\n",
    "%matplotlib inline\n",
    "import matplotlib.pyplot as plt\n",
    "import scipy.optimize as opt\n",
    "import scipy.linalg as la\n",
    "import time"
   ]
  },
  {
   "cell_type": "markdown",
   "metadata": {
    "id": "8uYdewj8ToI5"
   },
   "source": [
    "# **Define the toy regression problem here**"
   ]
  },
  {
   "cell_type": "markdown",
   "metadata": {
    "id": "0MTBvm-PURPT"
   },
   "source": [
    "Input = X with shape (n,d); n data, each data has d dimensions\n",
    "\n",
    "\n",
    "Output = Y with shape (n,1) \n",
    "\n",
    "\n",
    "Weights = w with shape (d,1), due to the limitation of dwave, w here are binary"
   ]
  },
  {
   "cell_type": "code",
   "execution_count": 28,
   "metadata": {
    "id": "zkWktAVWU-Vt"
   },
   "outputs": [],
   "source": [
    "def generate_data(num_samples, num_features, noise):\n",
    "    W = np.random.randint(2, size=num_features)\n",
    "    X = 10*np.random.randn(num_samples, num_features)\n",
    "    Y = np.matmul(X,W)+noise*np.random.randn(num_samples)\n",
    "    return X, Y, W\n",
    "\n",
    "\n",
    "X, Y, beta_star = generate_data(200,20,50)"
   ]
  },
  {
   "cell_type": "markdown",
   "metadata": {},
   "source": [
    "## Regression as an optimization problem, MSE loss"
   ]
  },
  {
   "cell_type": "markdown",
   "metadata": {
    "id": "0Tieju7gGDIm"
   },
   "source": [
    "First we would write this problem as optimization problem, given X,Y, we want find the optimal w that minimize the mean squred error"
   ]
  },
  {
   "cell_type": "markdown",
   "metadata": {
    "id": "G1Xs3UOjGDIv"
   },
   "source": [
    "\n",
    "$$\n",
    "\\min_{\\mathbf{w}} 1/2\\mathbf{w}^\\top \\mathbf{X}^\\top \\mathbf{X} \\mathbf{w}\\ - \\mathbf{w}^\\top \\mathbf{x}^\\top \\mathbf{Y} + 1/2  \\mathbf{Y}^\\top \\mathbf{Y}\n",
    "\\\\\n",
    "\\mathbf{w} \\in \\{0,1 \\}\n",
    "$$"
   ]
  },
  {
   "cell_type": "code",
   "execution_count": 44,
   "metadata": {},
   "outputs": [],
   "source": [
    "from sklearn.metrics import mean_squared_error\n",
    "def loss(beta):\n",
    "    prediction = X.dot(beta)\n",
    "    return mean_squared_error(Y,prediction)"
   ]
  },
  {
   "cell_type": "markdown",
   "metadata": {
    "id": "okS4EwVNV-7e"
   },
   "source": [
    "# Solve it using GD"
   ]
  },
  {
   "cell_type": "code",
   "execution_count": 280,
   "metadata": {
    "id": "1K80krdNV-LJ"
   },
   "outputs": [],
   "source": [
    "\n",
    "### just GD for linear regression\n",
    "def OLS(X, Y, max_iter):\n",
    "    n, d = X.shape\n",
    "    w, v = np.linalg.eig(np.matmul(np.transpose(X),X))\n",
    "    L    = np.max(w)\n",
    "    betas= []\n",
    "\n",
    "    XTX  = np.matmul(np.transpose(X),X)\n",
    "    XTY  = np.matmul(np.transpose(X),Y)\n",
    "        \n",
    "    beta = np.zeros(d)\n",
    "    betas.append(beta)\n",
    "    betas.append(beta-(1/L)*(np.matmul(XTX, beta) - XTY))\n",
    "    i=0\n",
    "#     while (np.linalg.norm(betas[i]-beta_star))>0.9:\n",
    "#     print(np.linalg.norm(betas[i]-beta))\n",
    "    for i in range(max_iter):\n",
    "        beta         = beta-(1/L)*(np.matmul(XTX, beta) - XTY)\n",
    "        betas.append(beta) \n",
    "        i+=1\n",
    "#         print(beta)\n",
    "\n",
    "    return beta, betas"
   ]
  },
  {
   "cell_type": "code",
   "execution_count": 284,
   "metadata": {},
   "outputs": [
    {
     "name": "stdout",
     "output_type": "stream",
     "text": [
      "The error rate is 29.697%\n",
      "Time used for GD is 0.010241031646728516s\n"
     ]
    }
   ],
   "source": [
    "t1 = time.time()\n",
    "beta_hat, betas = OLS(X,Y,1000)\n",
    "print(\"The error rate is {}%\".format(round(100*np.mean(np.abs(beta_hat-beta_star)),3)))\n",
    "print(\"Time used for GD is {}s\".format(time.time()-t1))"
   ]
  },
  {
   "cell_type": "code",
   "execution_count": 285,
   "metadata": {},
   "outputs": [],
   "source": [
    "def binary_project(u):\n",
    "    v = np.array(u)\n",
    "\n",
    "    v[v<0.5] = 0\n",
    "    v[v>=0.5] = 1\n",
    "\n",
    "    return v\n",
    "\n",
    "\n",
    "### just GD for linear regression\n",
    "def binary_OLS(X, Y, max_iter):\n",
    "    n, d = X.shape\n",
    "    w, v = np.linalg.eig(np.matmul(np.transpose(X),X))\n",
    "    L    = np.max(w)\n",
    "    betas= []\n",
    "\n",
    "    XTX  = np.matmul(np.transpose(X),X)\n",
    "    XTY  = np.matmul(np.transpose(X),Y)\n",
    "        \n",
    "    beta = np.zeros(d)\n",
    "    betas.append(beta)\n",
    "    betas.append(beta-(1/L)*(np.matmul(XTX, beta) - XTY))\n",
    "    i=0\n",
    "\n",
    "    for i in range(max_iter):\n",
    "        beta         = binary_project(beta-(1/L)*(np.matmul(XTX, beta) - XTY))\n",
    "        betas.append(beta) \n",
    "        i+=1\n",
    "#         print(beta)\n",
    "\n",
    "    return beta, betas"
   ]
  },
  {
   "cell_type": "code",
   "execution_count": 286,
   "metadata": {
    "colab": {
     "base_uri": "https://localhost:8080/"
    },
    "id": "a9LJC_FGVzGK",
    "outputId": "6671254f-5dee-4373-9c49-4f88c3bc99ef"
   },
   "outputs": [
    {
     "name": "stdout",
     "output_type": "stream",
     "text": [
      "The error rate is 15.0%\n",
      "Time used for projected GD is 0.014467000961303711s\n"
     ]
    }
   ],
   "source": [
    "import time\n",
    "t1 = time.time()\n",
    "beta_hat, betas = binary_OLS(X,Y,1000)\n",
    "print(\"The error rate is {}%\".format(round(100*np.mean(np.abs(beta_hat-beta_star)),3)))\n",
    "print(\"Time used for projected GD is {}s\".format(time.time()-t1))"
   ]
  },
  {
   "cell_type": "markdown",
   "metadata": {},
   "source": [
    "## Now let's try to use Dwave solvers\n",
    "Need convert problem into QUBO first"
   ]
  },
  {
   "cell_type": "markdown",
   "metadata": {
    "id": "fzXF_SAdGDIQ"
   },
   "source": [
    "#### QUBO formulation\n",
    "We define a QUBO as the following optimization problem:\n",
    "$$\n",
    "\\min_{x \\in \\{0,1 \\}^n} \\sum_{(ij) \\in E(G)} Q_{ij}x_i x_j + \\sum_{i \\in V(G)}Q_{ii}x_i + c_Q = \\min_{x \\in \\{0,1 \\}^n}  x^\\top Q x + c_Q\n",
    "$$\n",
    "where we optimize over binary variables $x \\in \\{ 0,1 \\}^n$, on a constrained graph $G(V,E)$ defined by an adjacency matrix $Q$. We also include an arbitrary offset  $c_Q$."
   ]
  },
  {
   "cell_type": "code",
   "execution_count": 240,
   "metadata": {},
   "outputs": [],
   "source": [
    "#### get the linear term and qudratic term \n",
    "XTX  = np.matmul(np.transpose(X),X)\n",
    "XTY  = np.matmul(np.transpose(X),Y)\n",
    "d =len(X[0])\n",
    "\n",
    "\n",
    "## based on MSE loss, linear term in w: XTY\n",
    "linear = {}\n",
    "for i in range(1,d+1):\n",
    "    linear[i] = -XTY[i-1]\n",
    "\n",
    "## based on MSE loss, quadratic term in w: XTX\n",
    "quadratic = {}\n",
    "for i in range(1,d+1):\n",
    "    for j in range(1,d+1):\n",
    "        quadratic[(i,j)] = 0.5*XTX[i-1][j-1]\n",
    "        \n",
    "        \n",
    "import dimod\n",
    "from dwave.system.samplers import DWaveSampler\n",
    "from dwave.system.composites import EmbeddingComposite\n",
    "\n",
    "\n",
    "offset = 0.0\n",
    "vartype = dimod.BINARY\n",
    "\n",
    "## create binary quadratic model\n",
    "bqm = dimod.BinaryQuadraticModel(linear, quadratic, offset, vartype)"
   ]
  },
  {
   "cell_type": "markdown",
   "metadata": {},
   "source": [
    "## Simulated annealing"
   ]
  },
  {
   "cell_type": "markdown",
   "metadata": {},
   "source": [
    "Simulated Annealing can be run without having a dwave account or valid API token\n",
    "\n",
    "\n",
    "Only need install dwave ocean (shown at the beginning of this notebook)"
   ]
  },
  {
   "cell_type": "code",
   "execution_count": 278,
   "metadata": {},
   "outputs": [
    {
     "name": "stdout",
     "output_type": "stream",
     "text": [
      "Using SimulatedAnnlearingSampler()\n",
      "   1  2  3  4  5  6  7  8  9 10 11 12 13 14 15 16 ... 20        energy num_oc.\n",
      "0  1  1  0  0  1  1  1  1  0  0  0  0  1  1  1  1 ...  1 -141493.59328       1\n",
      "1  1  1  0  0  1  1  1  1  0  0  0  0  1  1  1  1 ...  1 -141493.59328       1\n",
      "2  1  1  0  0  1  1  1  1  0  0  0  0  1  1  1  1 ...  1 -141493.59328       1\n",
      "3  1  1  0  0  1  1  1  1  0  0  0  0  1  1  1  1 ...  1 -141493.59328       1\n",
      "4  1  1  0  0  1  1  1  1  0  0  0  0  1  1  1  1 ...  1 -141493.59328       1\n",
      "5  1  1  0  0  1  1  1  1  0  0  0  0  1  1  1  1 ...  1 -141493.59328       1\n",
      "6  1  1  0  0  1  1  1  1  0  0  0  0  1  1  1  1 ...  1 -141493.59328       1\n",
      "7  1  1  0  0  1  1  1  1  0  0  0  0  1  1  1  1 ...  1 -141493.59328       1\n",
      "8  1  1  0  0  1  1  1  1  0  0  0  0  1  1  1  1 ...  1 -141493.59328       1\n",
      "9  1  1  0  0  1  1  1  1  0  0  0  0  1  1  1  1 ...  1 -141493.59328       1\n",
      "['BINARY', 10 rows, 10 samples, 20 variables]\n"
     ]
    }
   ],
   "source": [
    "t2 = time.time()\n",
    "sampler = dimod.SimulatedAnnealingSampler()\n",
    "sample_set = sampler.sample(bqm)\n",
    "t3 = time.time()\n",
    "print(\"Using SimulatedAnnlearingSampler()\")\n",
    "print(sample_set)\n",
    "\n",
    "\n",
    "## sample_set is an unique type containing all the info for the solver, please see below link for more info \n",
    "## https://docs.ocean.dwavesys.com/en/stable/_modules/dimod/sampleset.html"
   ]
  },
  {
   "cell_type": "code",
   "execution_count": 287,
   "metadata": {},
   "outputs": [
    {
     "name": "stdout",
     "output_type": "stream",
     "text": [
      "The error rate is 15.0%\n",
      "Time used for Simulated Annealing is 3.2589669227600098s\n"
     ]
    }
   ],
   "source": [
    "prediction = sample_set.record[-1][0]\n",
    "print(\"The error rate is {}%\".format(round(100*np.mean(np.abs(beta_hat-prediction)),3)))\n",
    "print(\"Time used for Simulated Annealing is {}s\".format(t3-t2))"
   ]
  },
  {
   "cell_type": "markdown",
   "metadata": {
    "id": "O-dDd26yGDJw"
   },
   "source": [
    "## Quantum Annealing!\n",
    "In order to run this, need have a dwave account and set up API following step 1 and step 2"
   ]
  },
  {
   "cell_type": "markdown",
   "metadata": {},
   "source": [
    "step 1. Make sure you first has a dwave account registered at https://cloud.dwavesys.com/leap/login/ \n",
    "\n",
    "\n",
    "step 2. Then follow the instructions here to set up your API at https://www.youtube.com/watch?v=SjUI_GmH_5As\n",
    "\n",
    "If set up your dwave on google colab on google colab instead of terminal, will have similiar process as the shown in the link in step 2. (such as setting up the token etc, but on google colab now instead of terminal)\n"
   ]
  },
  {
   "cell_type": "code",
   "execution_count": 30,
   "metadata": {
    "colab": {
     "base_uri": "https://localhost:8080/"
    },
    "id": "rjoehDiUHCAS",
    "outputId": "a3c4f2ae-6340-4032-f5cc-a115a108ee0a",
    "tags": []
   },
   "outputs": [],
   "source": [
    "# Let's setup the D-Wave connection\n",
    "#### input your dwave acccount token when running this on colab (during the run of dwave setup)\n",
    "if IN_COLAB:\n",
    "    !dwave setup"
   ]
  },
  {
   "cell_type": "code",
   "execution_count": 32,
   "metadata": {
    "colab": {
     "base_uri": "https://localhost:8080/"
    },
    "id": "RLxkZFB9HEzH",
    "outputId": "6f12b814-660e-4987-fb18-c7509536a337",
    "tags": []
   },
   "outputs": [
    {
     "name": "stdout",
     "output_type": "stream",
     "text": [
      "Using endpoint: https://cloud.dwavesys.com/sapi/\n",
      "Using solver: hybrid_binary_quadratic_model_version2\n",
      "Error: Sampling error: SolverFailureError(\"Problems with 'bqm' type must provide the 'time_limit' param\") (code: 10)\n"
     ]
    }
   ],
   "source": [
    "!dwave ping"
   ]
  },
  {
   "cell_type": "code",
   "execution_count": 288,
   "metadata": {},
   "outputs": [],
   "source": [
    "import dwave\n",
    "import sys, os\n",
    "from dwave.system.samplers import DWaveSampler\n",
    "from dwave.system.composites import EmbeddingComposite\n",
    "import dwave_networkx as dnx\n",
    "from dwave.system import (DWaveSampler, EmbeddingComposite,\n",
    "                          FixedEmbeddingComposite)\n",
    "from pprint import pprint\n",
    "api_key = os.getenv('DEV-588880b24e7d7e6eca43200d26555c6c05d431ed')\n",
    "\n",
    "# DWave Credentials\n",
    "dwave_solver = os.getenv('DW_2000Q_6')\n",
    "\n",
    "### copy your own token\n",
    "# own_token = ''\n",
    "# api_key = os.getenv(own_token)\n",
    "\n",
    "## note that you can copy your token from your dwave account dashboard\n",
    "## or for MACbook, the default path for API token file is /Users/your_name/Library/Application Support/dwave/dwave.conf\n",
    "\n",
    "# Select a D-Wave system and handle mapping from problem graph to sampler graph\n",
    "sampler = EmbeddingComposite(DWaveSampler(solver=dwave_solver, token=api_key))"
   ]
  },
  {
   "cell_type": "code",
   "execution_count": 289,
   "metadata": {
    "id": "LaR9DH81Nqrh"
   },
   "outputs": [
    {
     "data": {
      "text/plain": [
       "SampleSet(rec.array([([1, 1, 0, 0, 1, 1, 1, 1, 0, 0, 0, 0, 1, 1, 1, 1, 1, 1, 0, 1], -141493.59327996, 1, 0.)],\n",
       "          dtype=[('sample', 'i1', (20,)), ('energy', '<f8'), ('num_occurrences', '<i8'), ('chain_break_fraction', '<f8')]), [1, 2, 3, 4, 5, 6, 7, 8, 9, 10, 11, 12, 13, 14, 15, 16, 17, 18, 19, 20], {'timing': {'qpu_sampling_time': 96, 'qpu_anneal_time_per_sample': 20, 'qpu_readout_time_per_sample': 55, 'qpu_access_time': 26148, 'qpu_access_overhead_time': 7403, 'qpu_programming_time': 26051, 'qpu_delay_time_per_sample': 21, 'total_post_processing_time': 111, 'post_processing_overhead_time': 111}, 'problem_id': '2c04c31b-c7b9-4c2c-8ae1-cc92cb01e250'}, 'BINARY')"
      ]
     },
     "execution_count": 289,
     "metadata": {},
     "output_type": "execute_result"
    }
   ],
   "source": [
    "## Time is given in mircoseconds\n",
    "sample_set = sampler.sample(bqm)\n",
    "sample_set\n",
    "\n",
    "## sample_set is an unique type containing all the info for the solver, please see below link for more info \n",
    "## https://docs.ocean.dwavesys.com/en/stable/_modules/dimod/sampleset.html"
   ]
  },
  {
   "cell_type": "code",
   "execution_count": 291,
   "metadata": {},
   "outputs": [],
   "source": [
    "t_quantum = sample_set.info['timing']['qpu_access_time'] / 10**6\n",
    "## time is in microseconds\n",
    "## the timing info is discussed in details in https://docs.dwavesys.com/docs/latest/timing_cloud_client_use.html"
   ]
  },
  {
   "cell_type": "code",
   "execution_count": 198,
   "metadata": {},
   "outputs": [
    {
     "data": {
      "text/plain": [
       "{'timing': {'qpu_sampling_time': 108,\n",
       "  'qpu_anneal_time_per_sample': 20,\n",
       "  'qpu_readout_time_per_sample': 67,\n",
       "  'qpu_access_time': 26164,\n",
       "  'qpu_access_overhead_time': 6943,\n",
       "  'qpu_programming_time': 26056,\n",
       "  'qpu_delay_time_per_sample': 21,\n",
       "  'total_post_processing_time': 456,\n",
       "  'post_processing_overhead_time': 456},\n",
       " 'problem_id': '6fc9098b-5870-4789-a590-65e67a59b399'}"
      ]
     },
     "execution_count": 198,
     "metadata": {},
     "output_type": "execute_result"
    }
   ],
   "source": [
    "sample_set.info"
   ]
  },
  {
   "cell_type": "code",
   "execution_count": 292,
   "metadata": {},
   "outputs": [
    {
     "name": "stdout",
     "output_type": "stream",
     "text": [
      "The error rate is 15.0%\n",
      "Time used for Simulated Annealing is 0.026148s\n"
     ]
    }
   ],
   "source": [
    "prediction_q=sample_set.record[0][0]\n",
    "print(\"The error rate is {}%\".format(round(100*np.mean(np.abs(beta_hat-prediction_q)),3)))\n",
    "print(\"Time used for Simulated Annealing is {}s\".format(t_quantum))"
   ]
  },
  {
   "cell_type": "markdown",
   "metadata": {},
   "source": [
    "## Now we have shown three methods, let's compare their time\n",
    "Vary the number of weights (the dimension of w)"
   ]
  },
  {
   "cell_type": "code",
   "execution_count": 297,
   "metadata": {},
   "outputs": [],
   "source": [
    "size = []\n",
    "time_GD = []\n",
    "time_PGD = []\n",
    "time_SA = []\n",
    "time_QA = []\n",
    "\n",
    "GD_error = []\n",
    "PGD_error = []\n",
    "SA_error = []\n",
    "QA_error = []\n",
    "    "
   ]
  },
  {
   "cell_type": "code",
   "execution_count": 298,
   "metadata": {},
   "outputs": [],
   "source": [
    "import time\n",
    "for i in range (10,40):\n",
    "    X, Y, beta_star = generate_data(200,i,50)\n",
    "    size.append(i)\n",
    "    \n",
    "    \n",
    "    #########################\n",
    "    ### Use GD and projected GD\n",
    "    #########################\n",
    "    t1 = time.time()\n",
    "    ## GD\n",
    "    beta_hat_GD, betas = OLS(X,Y,1000)\n",
    "    time_GD.append(time.time()-t1)\n",
    "    GD_error.append(np.mean(np.abs(beta_hat_GD-beta_star)))\n",
    "    \n",
    "    t2=time.time()\n",
    "    beta_hat_PGD,betas = binary_OLS(X,Y,1000)\n",
    "    time_PGD.append(time.time()-t2)\n",
    "    PGD_error.append(np.mean(np.abs(beta_hat_PGD-beta_star)))\n",
    "    \n",
    "    \n",
    "    \n",
    "    #########################\n",
    "    ### Create BQM\n",
    "    #########################\n",
    "    #### get the linear term and qudratic term \n",
    "    XTX  = np.matmul(np.transpose(X),X)\n",
    "    XTY  = np.matmul(np.transpose(X),Y)\n",
    "    d =len(X[0])\n",
    "\n",
    "    \n",
    "    ## based on MSE loss, linear term in w: XTY\n",
    "    linear = {}\n",
    "    for i in range(1,d+1):\n",
    "        linear[i] = -XTY[i-1]\n",
    "\n",
    "    ## based on MSE loss, quadratic term in w: XTX\n",
    "    quadratic = {}\n",
    "    for i in range(1,d+1):\n",
    "        for j in range(1,d+1):\n",
    "            quadratic[(i,j)] = 0.5*XTX[i-1][j-1]\n",
    "\n",
    "\n",
    "    offset = 0.0\n",
    "    vartype = dimod.BINARY\n",
    "\n",
    "    ## create binary quadratic model\n",
    "    bqm = dimod.BinaryQuadraticModel(linear, quadratic, offset, vartype)\n",
    "    \n",
    "    \n",
    "    \n",
    "    #### SA\n",
    "    sampler_SA = dimod.SimulatedAnnealingSampler()\n",
    "    time2 = time.time()\n",
    "    sample_set_SA = sampler.sample(bqm)\n",
    "    time_SA.append(time.time()-time2)\n",
    "    prediction_SA = sample_set_SA.record[-1][0]\n",
    "    SA_error.append(np.mean(np.abs(prediction_SA-beta_star)))\n",
    "    \n",
    "    #### QA\n",
    "\n",
    "    sampler = EmbeddingComposite(DWaveSampler(solver=dwave_solver, token=api_key))\n",
    "    sample_set_q = sampler.sample(bqm)\n",
    "\n",
    "    time_q = sample_set_q.info['timing']['qpu_access_time'] / 10**6\n",
    "    time_QA.append(time_q)\n",
    "    \n",
    "    prediction_q = sample_set_q.record[-1][0]\n",
    "    QA_error.append(np.mean(np.abs(prediction_q-beta_star)))"
   ]
  },
  {
   "cell_type": "markdown",
   "metadata": {},
   "source": [
    "#### Time Comparison"
   ]
  },
  {
   "cell_type": "code",
   "execution_count": 317,
   "metadata": {},
   "outputs": [
    {
     "data": {
      "image/png": "[encoded data removed]",
      "text/plain": [
       "<Figure size 432x288 with 1 Axes>"
      ]
     },
     "metadata": {
      "needs_background": "light"
     },
     "output_type": "display_data"
    }
   ],
   "source": [
    "import matplotlib.pyplot as plt\n",
    "plt.figure()\n",
    "plt.plot(size,time_GD,label='Gradient Descent')\n",
    "plt.plot(size,time_PGD,label='Projected Gradient Descent')\n",
    "plt.plot(size,time_SA,label='Simulated Annealing')\n",
    "plt.plot(size,time_QA,label='Quantum Annealing')\n",
    "# plt.xlabel('Number of weights')\n",
    "plt.ylabel('Time')\n",
    "\n",
    "plt.legend(bbox_to_anchor=(0.6, 1))\n",
    "\n",
    "plt.show()"
   ]
  },
  {
   "cell_type": "markdown",
   "metadata": {},
   "source": [
    "#### Time Comparison without slowest simualted annealing"
   ]
  },
  {
   "cell_type": "code",
   "execution_count": 305,
   "metadata": {},
   "outputs": [
    {
     "data": {
      "image/png": "[encoded data removed]",
      "text/plain": [
       "<Figure size 432x288 with 1 Axes>"
      ]
     },
     "metadata": {
      "needs_background": "light"
     },
     "output_type": "display_data"
    }
   ],
   "source": [
    "import matplotlib.pyplot as plt\n",
    "plt.figure()\n",
    "plt.plot(size,time_GD,label='Gradient Descent')\n",
    "plt.plot(size,time_PGD,label='Projected Gradient Descent')\n",
    "# plt.plot(size,time_SA,label='Simulated Annealing')\n",
    "plt.plot(size,time_QA,label='Quantum Annealing')\n",
    "# plt.xlabel('Number of weights')\n",
    "plt.ylabel('Time')\n",
    "\n",
    "plt.legend(bbox_to_anchor=(0.6, 0.7))\n",
    "\n",
    "plt.show()"
   ]
  },
  {
   "cell_type": "markdown",
   "metadata": {},
   "source": [
    "## Now let's see the accuaracy of returned weights from those algorithms"
   ]
  },
  {
   "cell_type": "markdown",
   "metadata": {},
   "source": [
    "#### Error Comparison"
   ]
  },
  {
   "cell_type": "code",
   "execution_count": 312,
   "metadata": {},
   "outputs": [
    {
     "data": {
      "image/png": "[encoded data removed]",
      "text/plain": [
       "<Figure size 432x288 with 1 Axes>"
      ]
     },
     "metadata": {
      "needs_background": "light"
     },
     "output_type": "display_data"
    }
   ],
   "source": [
    "import matplotlib.pyplot as plt\n",
    "plt.figure()\n",
    "plt.plot(size,GD_error,label='Gradient Descent')\n",
    "plt.plot(size,PGD_error,label='Projected Gradient Descent')\n",
    "plt.plot(size,SA_error,label='Simulated Annealing')\n",
    "plt.plot(size,QA_error,label='Quantum Annealing')\n",
    "plt.xlabel('Number of weights')\n",
    "plt.ylabel('Loss')\n",
    "\n",
    "\n",
    "plt.legend(bbox_to_anchor=(0.55, 0.75))\n",
    "\n",
    "plt.show()"
   ]
  },
  {
   "cell_type": "code",
   "execution_count": null,
   "metadata": {},
   "outputs": [],
   "source": []
  }
 ],
 "metadata": {
  "colab": {
   "collapsed_sections": [],
   "name": "GDvsQA for convex problem.ipynb",
   "provenance": []
  },
  "kernelspec": {
   "display_name": "Python 3",
   "language": "python",
   "name": "python3"
  },
  "language_info": {
   "codemirror_mode": {
    "name": "ipython",
    "version": 3
   },
   "file_extension": ".py",
   "mimetype": "text/x-python",
   "name": "python",
   "nbconvert_exporter": "python",
   "pygments_lexer": "ipython3",
   "version": "3.8.5"
  }
 },
 "nbformat": 4,
 "nbformat_minor": 1
}
